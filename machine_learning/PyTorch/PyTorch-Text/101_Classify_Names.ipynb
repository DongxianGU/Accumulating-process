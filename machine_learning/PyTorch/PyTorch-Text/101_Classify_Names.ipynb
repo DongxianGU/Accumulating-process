{
 "cells": [
  {
   "cell_type": "markdown",
   "source": [
    "# Classifying Names with Character-Level RNN\n",
    "\n",
    "https://pytorch.org/tutorials/intermediate/char_rnn_classification_tutorial.html\n",
    "\n",
    "## PART 1 Preparing the data"
   ],
   "metadata": {
    "collapsed": false
   }
  },
  {
   "cell_type": "code",
   "execution_count": 1,
   "outputs": [],
   "source": [
    "from __future__ import unicode_literals, print_function, division\n",
    "import glob\n",
    "import os\n",
    "from io import open\n",
    "\n",
    "findFiles = lambda path: glob.glob(path)\n",
    "\n",
    "import unicodedata\n",
    "import string\n",
    "\n",
    "all_letters = string.ascii_letters + \" .,;'\"\n",
    "n_letters = len(all_letters)\n",
    "\n",
    "\n",
    "def unicodeToAscii(s):\n",
    "    \"\"\"\n",
    "    Turn a Unicode string to plain ASCII, thanks to https://stackoverflow.com/a/518232/2809427\n",
    "    :param s:\n",
    "    :return:\n",
    "    \"\"\"\n",
    "    return ''.join(\n",
    "        c for c in unicodedata.normalize('NFD', s)\n",
    "        if unicodedata.category(c) != 'Mn'\n",
    "        and c in all_letters\n",
    "    )"
   ],
   "metadata": {
    "collapsed": false,
    "pycharm": {
     "name": "#%%\n",
     "is_executing": false
    }
   }
  },
  {
   "cell_type": "code",
   "execution_count": 2,
   "outputs": [],
   "source": [
    "# 构建类别词典，每种语言的姓名列表\n",
    "category_lines = {}\n",
    "all_categories = []\n",
    "\n",
    "\n",
    "def readLines(filename):\n",
    "    \"\"\"\n",
    "    读取文件的所有行\n",
    "    :param filename:\n",
    "    :return:\n",
    "    \"\"\"\n",
    "    lines = open(filename, encoding='utf-8').read().strip().split('\\n')\n",
    "    return [unicodeToAscii(line) for line in lines]\n",
    "\n",
    "\n",
    "# 解析语言文件\n",
    "for filename in findFiles('data/names/*.txt'):\n",
    "    category = os.path.splitext(os.path.basename(filename))[0]\n",
    "    all_categories.append(category)\n",
    "    lines = readLines(filename)\n",
    "    category_lines[category] = lines\n",
    "\n",
    "n_categories = len(all_categories)"
   ],
   "metadata": {
    "collapsed": false,
    "pycharm": {
     "name": "#%%\n",
     "is_executing": false
    }
   }
  },
  {
   "cell_type": "markdown",
   "source": [
    "将 name 转换成 Tensor 以便使用它们\n",
    "我们使用one-hot 表示单个字母\n",
    "应次一个word 将字母连接成一个2D-matrix <line_length * 1 * n_letters>\n",
    "额外的1 dim 因为 PyTorch 认为 everything in batches，这里我们使用 a batch size of 1"
   ],
   "metadata": {
    "collapsed": false,
    "pycharm": {
     "name": "#%% md\n"
    }
   }
  },
  {
   "cell_type": "code",
   "execution_count": 3,
   "outputs": [
    {
     "name": "stdout",
     "text": [
      "['data/names/Japanese.txt', 'data/names/Spanish.txt', 'data/names/Arabic.txt', 'data/names/Italian.txt', 'data/names/Irish.txt', 'data/names/German.txt', 'data/names/Dutch.txt', 'data/names/Russian.txt', 'data/names/Vietnamese.txt', 'data/names/English.txt', 'data/names/Polish.txt', 'data/names/Czech.txt', 'data/names/Scottish.txt', 'data/names/Korean.txt', 'data/names/Portuguese.txt', 'data/names/Chinese.txt', 'data/names/Greek.txt', 'data/names/French.txt']\n",
      "abcdefghijklmnopqrstuvwxyzABCDEFGHIJKLMNOPQRSTUVWXYZ .,;'\n",
      "57\n",
      "Slusarski\n",
      "一共有18中语言\n",
      "['Abandonato', 'Abatangelo', 'Abatantuono', 'Abate', 'Abategiovanni']\n",
      "35\n",
      "torch.Size([4, 1, 57])\n"
     ],
     "output_type": "stream"
    }
   ],
   "source": [
    "import torch\n",
    "\n",
    "\n",
    "def letterToIndex(letter):\n",
    "    \"\"\"\n",
    "    返回字母的位置\n",
    "    :param letter:\n",
    "    :return:\n",
    "    \"\"\"\n",
    "    return all_letters.find(letter)\n",
    "\n",
    "\n",
    "def letterToTensor(letter):\n",
    "    \"\"\"\n",
    "    将字母转为 Tensor\n",
    "    :param letter:\n",
    "    :return:\n",
    "    \"\"\"\n",
    "    tensor = torch.zeros(1, n_letters)  # (1, n_letters)\n",
    "    tensor[0][letterToIndex(letter)] = 1\n",
    "    return tensor\n",
    "\n",
    "\n",
    "def lineToTensor(line):\n",
    "    \"\"\"\n",
    "    将 line(name) 转为 Tensor\n",
    "    :param line:\n",
    "    :return:\n",
    "    \"\"\"\n",
    "    tensor = torch.zeros(len(line), 1, n_letters)\n",
    "    for li, letter in enumerate(line):\n",
    "        tensor[li][0][letterToIndex(letter)] = 1\n",
    "    return tensor\n",
    "\n",
    "\n",
    "#\n",
    "print(findFiles('data/names/*.txt'))\n",
    "\n",
    "print(all_letters, n_letters, sep='\\n')\n",
    "\n",
    "print(unicodeToAscii('Ślusàrski'))\n",
    "\n",
    "print(f'一共有{n_categories}中语言')\n",
    "print(category_lines['Italian'][:5])\n",
    "\n",
    "print(letterToIndex('J'))\n",
    "print(lineToTensor('Jone').size())"
   ],
   "metadata": {
    "collapsed": false,
    "pycharm": {
     "name": "#%%\n",
     "is_executing": false
    }
   }
  },
  {
   "cell_type": "markdown",
   "source": [
    "## PART 2 Create the network"
   ],
   "metadata": {
    "collapsed": false,
    "pycharm": {
     "name": "#%% md\n"
    }
   }
  },
  {
   "cell_type": "code",
   "execution_count": 4,
   "outputs": [],
   "source": [
    "import torch.nn as nn\n",
    "\n",
    "\n",
    "class RNN(nn.Module):\n",
    "    def __init__(self, input_size, hidden_size, output_size):\n",
    "        super().__init__()\n",
    "\n",
    "        self.hidden_size = hidden_size\n",
    "\n",
    "        self.i2h = nn.Linear(input_size + hidden_size, hidden_size)\n",
    "        self.i2o = nn.Linear(input_size + hidden_size, output_size)\n",
    "        self.softmax = nn.LogSoftmax(dim=1)\n",
    "\n",
    "    def forward(self, input, hidden):\n",
    "        combined = torch.cat((input, hidden), 1)\n",
    "        hidden = self.i2h(combined)\n",
    "        output = self.i2o(combined)\n",
    "        output = self.softmax(output)\n",
    "        return output, hidden\n",
    "\n",
    "    def initHidden(self):\n",
    "        return torch.zeros(1, self.hidden_size)\n",
    "\n",
    "\n",
    "n_hidden = 128\n",
    "rnn = RNN(n_letters, n_hidden, n_categories)"
   ],
   "metadata": {
    "collapsed": false,
    "pycharm": {
     "name": "#%%\n",
     "is_executing": false
    }
   }
  },
  {
   "cell_type": "markdown",
   "source": [
    "为了运行这个网络，我们需要传入一个输入(当前的字符 Tensor)和之前的隐藏状态(hidden state)\n",
    "我们将得到输出(每个语言的概率)和下一个隐藏状态(hidden state)"
   ],
   "metadata": {
    "collapsed": false,
    "pycharm": {
     "name": "#%% md\n"
    }
   }
  },
  {
   "cell_type": "code",
   "execution_count": 5,
   "outputs": [
    {
     "name": "stdout",
     "text": [
      "tensor([[-2.8609, -2.8435, -2.8864, -2.8497, -2.9412, -2.8367, -2.7834, -2.9586,\n",
      "         -2.9122, -2.9147, -2.9696, -2.9753, -2.8825, -2.8510, -2.8286, -2.9300,\n",
      "         -2.8829, -2.9449]], grad_fn=<LogSoftmaxBackward>)\n"
     ],
     "output_type": "stream"
    }
   ],
   "source": [
    "\"\"\"\n",
    "input = letterToTensor('A')\n",
    "hidden = torch.zeros(1, n_hidden)\n",
    "output, next_hidden = rnn(input, hidden)\n",
    "print(output)\n",
    "\n",
    "tensor([[-2.9214, -2.8852, -2.8908, -2.9397, -2.9185, -2.9034, -2.9093, -2.8364,\n",
    "         -2.9467, -2.8260, -2.8918, -2.8840, -2.7911, -2.8814, -2.9051, -2.8676,\n",
    "         -2.9429, -2.8997]], grad_fn=<LogSoftmaxBackward>)\n",
    "\"\"\"\n",
    "input = lineToTensor('Albert')\n",
    "hidden = torch.zeros(1, n_hidden)\n",
    "\n",
    "output, next_hidden = rnn(input[0], hidden)\n",
    "print(output)"
   ],
   "metadata": {
    "collapsed": false,
    "pycharm": {
     "name": "#%%\n",
     "is_executing": false
    }
   }
  },
  {
   "cell_type": "markdown",
   "source": [
    "## PART 3 Training\n",
    "\n",
    "### Preparing for Training"
   ],
   "metadata": {
    "collapsed": false,
    "pycharm": {
     "name": "#%% md\n"
    }
   }
  },
  {
   "cell_type": "code",
   "execution_count": 6,
   "outputs": [
    {
     "name": "stdout",
     "text": [
      "('Dutch', 6)\n"
     ],
     "output_type": "stream"
    }
   ],
   "source": [
    "def categoryFromOutput(output):\n",
    "    top_n, top_i = output.topk(1)\n",
    "    category_i = top_i[0].item()\n",
    "    return all_categories[category_i], category_i\n",
    "\n",
    "\n",
    "print(categoryFromOutput(output))"
   ],
   "metadata": {
    "collapsed": false,
    "pycharm": {
     "name": "#%%\n",
     "is_executing": false
    }
   }
  },
  {
   "cell_type": "markdown",
   "source": [
    "a quick way to get a training example (a name and its language):"
   ],
   "metadata": {
    "collapsed": false,
    "pycharm": {
     "name": "#%% md\n"
    }
   }
  },
  {
   "cell_type": "code",
   "execution_count": 7,
   "outputs": [
    {
     "name": "stdout",
     "text": [
      "category = Arabic  / line = Nassar\n",
      "category = Greek  / line = Vlahos\n",
      "category = Irish  / line = Simon\n",
      "category = Italian  / line = Montagna\n",
      "category = French  / line = Bordelon\n",
      "category = Italian  / line = Cremonesi\n",
      "category = Arabic  / line = Fakhoury\n",
      "category = Scottish  / line = Christie\n",
      "category = Spanish  / line = Arechavaleta\n",
      "category = Italian  / line = Di caprio\n"
     ],
     "output_type": "stream"
    }
   ],
   "source": [
    "import random\n",
    "\n",
    "\n",
    "def randomChoice(l):\n",
    "    return l[random.randint(0, len(l) - 1)]\n",
    "\n",
    "\n",
    "def randomTrainingExample():\n",
    "    category = randomChoice(all_categories)\n",
    "    line = randomChoice(category_lines[category])\n",
    "    category_tensor = torch.tensor([all_categories.index(category)], dtype=torch.long)\n",
    "    line_tensor = lineToTensor(line)\n",
    "    return category, line, category_tensor, line_tensor\n",
    "\n",
    "\n",
    "for i in range(10):\n",
    "    category, line, category_tensor, line_tensor = randomTrainingExample()\n",
    "    print(f'category = {category}  / line = {line}')"
   ],
   "metadata": {
    "collapsed": false,
    "pycharm": {
     "name": "#%%\n",
     "is_executing": false
    }
   }
  },
  {
   "cell_type": "markdown",
   "source": [
    "### Train the network\n",
    "\n",
    "For the loss function nn.NLLLoss is appropriate, since the last layer of the RNN is nn.LogSoftmax.\n",
    "\n"
   ],
   "metadata": {
    "collapsed": false,
    "pycharm": {
     "name": "#%% md\n"
    }
   }
  },
  {
   "cell_type": "markdown",
   "source": [
    "每次训练循环将要执行：\n",
    "1. 创建 输入和目标 Tensor\n",
    "2. 创建 初始值为0的 hidden state\n",
    "3. 读取每个字母和传输 hidden state 给下一个字母\n",
    "4. 比较输出(output)和 目标 (target)\n",
    "5. 反向传播\n",
    "6. 返回输出和损失"
   ],
   "metadata": {
    "collapsed": false,
    "pycharm": {
     "name": "#%% md\n"
    }
   }
  },
  {
   "cell_type": "code",
   "execution_count": 8,
   "outputs": [],
   "source": [
    "criterion = nn.NLLLoss()\n",
    "learning_rate = 0.005  # If you set this too high, it might explode. If too low, it might not learn\n",
    "\n",
    "\n",
    "def train(category_tensor, line_tensor):\n",
    "    hidden = rnn.initHidden()\n",
    "    rnn.zero_grad()\n",
    "\n",
    "    for i in range(line_tensor.size()[0]):\n",
    "        output, hidden = rnn(line_tensor[i], hidden)\n",
    "\n",
    "    loss = criterion(output, category_tensor)\n",
    "    loss.backward()\n",
    "\n",
    "    for p in rnn.parameters():\n",
    "        p.data.add_(-learning_rate, p.grad.data)\n",
    "\n",
    "    return output, loss.item()"
   ],
   "metadata": {
    "collapsed": false,
    "pycharm": {
     "name": "#%%\n",
     "is_executing": false
    }
   }
  },
  {
   "cell_type": "code",
   "execution_count": 9,
   "outputs": [],
   "source": [
    "import time\n",
    "import math\n",
    "\n",
    "n_epochs = 100000\n",
    "print_every = 5000\n",
    "plot_every = 1000\n",
    "\n",
    "current_loss = 0\n",
    "all_losses = []\n",
    "\n",
    "\n",
    "def timeSince(since):\n",
    "    now = time.time()\n",
    "    s = now - since\n",
    "    m = math.floor(s / 60)\n",
    "    s -= m * 60\n",
    "    return '%dm %ds' % (m, s)"
   ],
   "metadata": {
    "collapsed": false,
    "pycharm": {
     "name": "#%%\n",
     "is_executing": false
    }
   }
  },
  {
   "cell_type": "code",
   "execution_count": 10,
   "outputs": [
    {
     "name": "stdout",
     "text": [
      "5000 5% (0m 20s) 2.5183 Vicario / Portuguese ✗ (Italian)\n",
      "10000 10% (0m 37s) 2.2000 Ferreira / Portuguese ✓\n",
      "15000 15% (0m 53s) 2.2557 Dalen / Irish ✗ (Dutch)\n",
      "20000 20% (1m 12s) 1.0678 Wexler / German ✓\n",
      "25000 25% (1m 28s) 2.1711 Allum / Scottish ✗ (English)\n",
      "30000 30% (1m 40s) 1.7778 Gaber / German ✗ (Arabic)\n",
      "35000 35% (1m 56s) 2.1646 Osman / Irish ✗ (English)\n",
      "40000 40% (2m 12s) 4.1814 Pan / Vietnamese ✗ (French)\n",
      "45000 45% (2m 28s) 2.1799 Owen / Dutch ✗ (English)\n",
      "50000 50% (2m 39s) 0.9620 Basurto / Portuguese ✓\n",
      "55000 55% (2m 55s) 4.2410 Hadash / Arabic ✗ (Czech)\n",
      "60000 60% (3m 12s) 1.1382 Planick / Czech ✓\n",
      "65000 65% (3m 23s) 0.4190 De santigo / Portuguese ✓\n",
      "70000 70% (3m 34s) 0.2209 Bach / Vietnamese ✓\n",
      "75000 75% (3m 50s) 0.2235 Cloutier / French ✓\n",
      "80000 80% (4m 6s) 1.4030 Dagher / Arabic ✓\n",
      "85000 85% (4m 17s) 0.5764 Chu / Vietnamese ✓\n",
      "90000 90% (4m 33s) 3.7367 Jones / Dutch ✗ (Scottish)\n",
      "95000 95% (4m 45s) 0.1023 Molchanov / Russian ✓\n",
      "100000 100% (4m 56s) 2.3478 Nascimbene / German ✗ (Italian)\n"
     ],
     "output_type": "stream"
    }
   ],
   "source": [
    "start = time.time()\n",
    "\n",
    "for epoch in range(1, n_epochs + 1):\n",
    "    category, line, category_tensor, line_tensor = randomTrainingExample()\n",
    "    output, loss = train(category_tensor, line_tensor)\n",
    "    current_loss += loss\n",
    "\n",
    "    if epoch % print_every == 0:\n",
    "        guess, guess_i = categoryFromOutput(output)\n",
    "        correct = '✓' if guess == category else '✗ (%s)' % category\n",
    "        print(\n",
    "            '%d %d%% (%s) %.4f %s / %s %s' % (epoch, epoch / n_epochs * 100, timeSince(start), loss, line, guess, correct))\n",
    "\n",
    "    if epoch % plot_every == 0:\n",
    "        all_losses.append(current_loss / plot_every)\n",
    "        current_loss = 0"
   ],
   "metadata": {
    "collapsed": false,
    "pycharm": {
     "name": "#%%\n",
     "is_executing": false
    }
   }
  },
  {
   "cell_type": "markdown",
   "source": [
    "### Plotting the Result"
   ],
   "metadata": {
    "collapsed": false,
    "pycharm": {
     "name": "#%% md\n"
    }
   }
  },
  {
   "cell_type": "code",
   "execution_count": 11,
   "outputs": [
    {
     "data": {
      "text/plain": "[<matplotlib.lines.Line2D at 0x7f8c18e355d0>]"
     },
     "metadata": {},
     "output_type": "execute_result",
     "execution_count": 11
    },
    {
     "data": {
      "text/plain": "<Figure size 432x288 with 1 Axes>",
      "image/png": "[encoded data removed]"
     },
     "metadata": {
      "needs_background": "light"
     },
     "output_type": "display_data"
    }
   ],
   "source": [
    "import matplotlib.pyplot as plt\n",
    "import matplotlib.ticker as ticker\n",
    "\n",
    "plt.figure()\n",
    "plt.plot(all_losses)"
   ],
   "metadata": {
    "collapsed": false,
    "pycharm": {
     "name": "#%%\n",
     "is_executing": false
    }
   }
  },
  {
   "cell_type": "markdown",
   "source": [
    "## PART 4 Evaluating the Results"
   ],
   "metadata": {
    "collapsed": false
   }
  },
  {
   "cell_type": "code",
   "execution_count": 12,
   "outputs": [
    {
     "data": {
      "text/plain": "<Figure size 432x288 with 2 Axes>",
      "image/png": "[encoded data removed]"
     },
     "metadata": {
      "needs_background": "light"
     },
     "output_type": "display_data"
    }
   ],
   "source": [
    "confusion = torch.zeros(n_categories, n_categories)\n",
    "n_confusion = 10000\n",
    "\n",
    "\n",
    "def evaluate(line_tensor):\n",
    "    hidden = rnn.initHidden()\n",
    "    for i in range(line_tensor.size()[0]):\n",
    "        output, hidden = rnn(line_tensor[i], hidden)\n",
    "    return output\n",
    "\n",
    "\n",
    "for i in range(n_confusion):\n",
    "    category, line, category_tensor, line_tensor = randomTrainingExample()\n",
    "    output = evaluate(line_tensor)\n",
    "    guess, guess_i = categoryFromOutput(output)\n",
    "    category_i = all_categories.index(category)\n",
    "    confusion[category_i][guess_i] += 1\n",
    "\n",
    "# 通过除以每一个行和 标准化\n",
    "for i in range(n_categories):\n",
    "    confusion[i] = confusion[i] / confusion[i].sum()\n",
    "\n",
    "# 设置 Plot\n",
    "fig = plt.figure()\n",
    "ax = fig.add_subplot(111)\n",
    "cax = ax.matshow(confusion.numpy())\n",
    "fig.colorbar(cax)\n",
    "\n",
    "# 设置 axes\n",
    "\n",
    "ax.set_xticklabels([''] + all_categories, rotation=90)\n",
    "ax.set_yticklabels([''] + all_categories)\n",
    "\n",
    "ax.xaxis.set_major_locator(ticker.MultipleLocator(1))\n",
    "ax.yaxis.set_major_locator(ticker.MultipleLocator(1))\n",
    "\n",
    "plt.show()"
   ],
   "metadata": {
    "collapsed": false,
    "pycharm": {
     "name": "#%%\n",
     "is_executing": false
    }
   }
  },
  {
   "cell_type": "code",
   "execution_count": 13,
   "outputs": [
    {
     "name": "stdout",
     "text": [
      "\n",
      "> Dovesky\n",
      "(-0.66) Russian\n",
      "(-1.08) Czech\n",
      "(-2.32) Polish\n",
      "\n",
      "> Jackson\n",
      "(-0.05) Scottish\n",
      "(-3.87) English\n",
      "(-4.59) Czech\n",
      "\n",
      "> Satoshi\n",
      "(-0.97) Italian\n",
      "(-1.33) Arabic\n",
      "(-2.24) Japanese\n"
     ],
     "output_type": "stream"
    }
   ],
   "source": [
    "def predict(input_line, n_predictions=3):\n",
    "    print('\\n> %s' % input_line)\n",
    "    with torch.no_grad():\n",
    "        output = evaluate(lineToTensor(input_line))\n",
    "\n",
    "        # Get top N categories\n",
    "        topv, topi = output.topk(n_predictions, 1, True)\n",
    "        predictions = []\n",
    "\n",
    "        for i in range(n_predictions):\n",
    "            value = topv[0][i].item()\n",
    "            category_index = topi[0][i].item()\n",
    "            print('(%.2f) %s' % (value, all_categories[category_index]))\n",
    "            predictions.append([value, all_categories[category_index]])\n",
    "\n",
    "predict('Dovesky')\n",
    "predict('Jackson')\n",
    "predict('Satoshi')"
   ],
   "metadata": {
    "collapsed": false,
    "pycharm": {
     "name": "#%% \n",
     "is_executing": false
    }
   }
  }
 ],
 "metadata": {
  "kernelspec": {
   "display_name": "Python 3",
   "language": "python",
   "name": "python3"
  },
  "language_info": {
   "codemirror_mode": {
    "name": "ipython",
    "version": 2
   },
   "file_extension": ".py",
   "mimetype": "text/x-python",
   "name": "python",
   "nbconvert_exporter": "python",
   "pygments_lexer": "ipython2",
   "version": "2.7.6"
  },
  "pycharm": {
   "stem_cell": {
    "cell_type": "raw",
    "source": [],
    "metadata": {
     "collapsed": false
    }
   }
  }
 },
 "nbformat": 4,
 "nbformat_minor": 0
}