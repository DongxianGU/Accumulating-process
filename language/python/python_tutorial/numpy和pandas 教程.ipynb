{
 "cells": [
  {
   "cell_type": "markdown",
   "metadata": {},
   "source": [
    "# Numpy 和 Pandas"
   ]
  },
  {
   "cell_type": "markdown",
   "metadata": {},
   "source": [
    "## Numpy "
   ]
  },
  {
   "cell_type": "markdown",
   "metadata": {},
   "source": [
    "### 基本数学"
   ]
  },
  {
   "cell_type": "code",
   "execution_count": 69,
   "metadata": {},
   "outputs": [
    {
     "name": "stdout",
     "output_type": "stream",
     "text": [
      "[[1 2 3]\n",
      " [4 5 6]]\n",
      "number of dim: 2\n",
      "shape: (2, 3)\n",
      "size: 6\n"
     ]
    }
   ],
   "source": [
    "import numpy as np\n",
    "array = np.array([[1,2,3],\n",
    "                  [4,5,6]])\n",
    "print(array)\n",
    "print('number of dim:',array.ndim)\n",
    "print('shape:',array.shape)\n",
    "print('size:',array.size)"
   ]
  },
  {
   "cell_type": "markdown",
   "metadata": {},
   "source": [
    "### 创建数组"
   ]
  },
  {
   "cell_type": "code",
   "execution_count": null,
   "metadata": {},
   "outputs": [],
   "source": [
    "import numpy as np\n",
    "a = np.array([2,3,4],dtype=np.int)\n",
    "print(a.dtype)\n",
    "a = np.array([2,3,4],dtype=np.int32)\n",
    "print(a.dtype)\n",
    "a = np.array([2,3,4],dtype=np.int16)\n",
    "print(a.dtype)\n",
    "a = np.array([2,3,4],dtype=np.float)\n",
    "print(a.dtype)\n",
    "a = np.zeros((2,3))\n",
    "print(a)\n",
    "a = np.ones((2,3))\n",
    "print(a)\n",
    "a = np.empty((2,3))\n",
    "print(a)\n",
    "a = np.arange(10,20,2)\n",
    "print(a)\n",
    "a = np.arange(12).reshape(3,4)\n",
    "print(a)\n",
    "# 生成线段，1-10 分成20段\n",
    "a = np.linspace(1,10,20)\n",
    "print(a)"
   ]
  },
  {
   "cell_type": "markdown",
   "metadata": {},
   "source": [
    "### Numpy 运算"
   ]
  },
  {
   "cell_type": "code",
   "execution_count": 2,
   "metadata": {},
   "outputs": [
    {
     "name": "stdout",
     "output_type": "stream",
     "text": [
      "[1 2 3 4] [0 1 2 3]\n",
      "[1 1 1 1]\n",
      "[0 1 4 9]\n",
      "[ True  True  True False]\n",
      "[False False False  True]\n",
      "[0 1 2 3]\n",
      "[[1 1]\n",
      " [0 1]]\n",
      "[[0 1]\n",
      " [2 3]]\n",
      "[[0 1]\n",
      " [0 3]]\n",
      "[[2 4]\n",
      " [2 3]]\n",
      "[[2 4]\n",
      " [2 3]]\n",
      "[[0.70135056 0.60542629 0.52397504 0.5767714 ]\n",
      " [0.34297006 0.51458156 0.7304368  0.98962658]]\n",
      "4.985138287780163\n",
      "0.3429700632250937\n",
      "0.9896265765283117\n",
      "[2.40752328 2.577615  ]\n",
      "[0.34297006 0.51458156 0.52397504 0.5767714 ]\n",
      "[0.70135056 0.98962658]\n"
     ]
    }
   ],
   "source": [
    "import numpy as np\n",
    "a = np.array([1,2,3,4])\n",
    "b= np.arange(4)\n",
    "c = a-b\n",
    "print(a,b)\n",
    "print(c)\n",
    "print(b**2)\n",
    "print(b<3)\n",
    "print(b==3)\n",
    "print(a-1)\n",
    "\n",
    "a = np.array([[1,1],\n",
    "             [0,1]])\n",
    "b = np.arange(4).reshape((2,2))\n",
    "\n",
    "print(a)\n",
    "print(b)\n",
    "\n",
    "c = a*b\n",
    "c_dot = np.dot(a,b) # 矩阵乘法\n",
    "c_dot_2 = a.dot(b)\n",
    "print(c)\n",
    "print(c_dot)\n",
    "print(c_dot_2)\n",
    "\n",
    "a = np.random.random((2,4))\n",
    "print(a)\n",
    "print(np.sum(a))\n",
    "print(np.min(a))\n",
    "print(np.max(a))\n",
    "\n",
    "print(np.sum(a,axis=1)) # 行里求和\n",
    "print(np.min(a,axis=0)) # 列里找最小值\n",
    "print(np.max(a,axis=1))"
   ]
  },
  {
   "cell_type": "markdown",
   "metadata": {},
   "source": [
    "### Numpy 的索引 "
   ]
  },
  {
   "cell_type": "code",
   "execution_count": null,
   "metadata": {},
   "outputs": [],
   "source": [
    "import numpy as np\n",
    "A = np.arange(2,14).reshape((3,4))\n",
    "print(A)\n",
    "print(np.argmin(A)) # 最小值索引\n",
    "print(np.argmax(A))\n",
    "print(np.mean(A)) # 平均值\n",
    "print(A.mean())\n",
    "print(np.average(A))\n",
    "print(np.median(A)) # 矩阵的中位数\n",
    "print(np.cumsum(A)) # 累加\n",
    "print(np.diff(A)) # 累差 相邻元素的差 3*4 = > 3*3\n",
    "print(np.nonzero(A)) # 非零，两个Array，第一个行数，第二个列数\n",
    "B = np.arange(14,2,-1).reshape((3,4))\n",
    "print(np.sort(B))\n",
    "print(np.transpose(A)) # 矩阵转置\n",
    "print((A.T).dot(A))\n",
    "\n",
    "print(np.clip(A,5,9)) # 截取，小于5变成5，大于9变成9\n",
    "# 以上都可以指定axis计算"
   ]
  },
  {
   "cell_type": "code",
   "execution_count": null,
   "metadata": {},
   "outputs": [],
   "source": [
    "import numpy as np\n",
    "A = np.arange(3,15)\n",
    "print(A)\n",
    "print(A[3])\n",
    "A = np.reshape(A,(3,4))\n",
    "print(A)\n",
    "print(A[2])\n",
    "print(A[1][1])\n",
    "print(A[1,1])\n",
    "print(A[2,:])\n",
    "print(A[2,1:2])\n",
    "print(A[2,1:3])\n",
    "print(A[:,1])\n",
    "\n",
    "print(A)\n",
    "print('*'*3,'行迭代：')\n",
    "for row in A:\n",
    "    print(row)\n",
    "\n",
    "print('*'*3,'列迭代：')\n",
    "print(A.T)\n",
    "for column in A.T:\n",
    "    print(column)\n",
    "\n",
    "print('*'*3,'元素迭代：')\n",
    "print(A.flatten()) \n",
    "for item in A.flat: # A编程一行 A.flat 是迭代器\n",
    "    print(item)"
   ]
  },
  {
   "cell_type": "markdown",
   "metadata": {},
   "source": [
    "### Numpy的array 合并"
   ]
  },
  {
   "cell_type": "code",
   "execution_count": null,
   "metadata": {},
   "outputs": [],
   "source": [
    "import numpy as np\n",
    "A = np.array([1,1,1])\n",
    "B = np.array([2,2,2])\n",
    "C = np.vstack((A,B))# vertical stack 垂直合并\n",
    "D = np.hstack((A,B)) # horizontal stack 水平合并\n",
    "print(C)\n",
    "print(A.shape,C.shape)\n",
    "\n",
    "print(D)\n",
    "print(A.shape,D.shape)\n",
    "\n",
    "print(A[np.newaxis,:]) # 在行上面加维度\n",
    "print(A[np.newaxis,:].shape) # 在行上面加维度\n",
    "\n",
    "print(A[:,np.newaxis]) # 在行上面加维度\n",
    "print(A[:,np.newaxis].shape) # 在列上面加维度\n",
    "\n",
    "A = np.array([1,1,1])[:,np.newaxis]\n",
    "B = np.array([2,2,2])[:,np.newaxis]\n",
    "E = np.concatenate((A,B,B,A),axis=0) # 纵向合并\n",
    "F = np.concatenate((A,B,B,A),axis=1) # 横向合并\n",
    "print(E)\n",
    "print(F)"
   ]
  },
  {
   "cell_type": "markdown",
   "metadata": {},
   "source": [
    "### Numpy 的 array 分割"
   ]
  },
  {
   "cell_type": "code",
   "execution_count": 3,
   "metadata": {},
   "outputs": [
    {
     "name": "stdout",
     "output_type": "stream",
     "text": [
      "[[ 0  1  2  3]\n",
      " [ 4  5  6  7]\n",
      " [ 8  9 10 11]]\n",
      "[array([[0, 1, 2, 3]]), array([[4, 5, 6, 7]]), array([[ 8,  9, 10, 11]])]\n",
      "[array([[0, 1],\n",
      "       [4, 5],\n",
      "       [8, 9]]), array([[ 2,  3],\n",
      "       [ 6,  7],\n",
      "       [10, 11]])]\n",
      "[array([[0, 1, 2, 3],\n",
      "       [4, 5, 6, 7]]), array([[ 8,  9, 10, 11]])]\n",
      "[array([[0, 1, 2, 3]]), array([[4, 5, 6, 7]]), array([[ 8,  9, 10, 11]])]\n",
      "[array([[ 0,  1,  2,  3],\n",
      "       [ 4,  5,  6,  7],\n",
      "       [ 8,  9, 10, 11]])]\n"
     ]
    }
   ],
   "source": [
    "import numpy as np\n",
    "\n",
    "A = np.arange(12).reshape((3,4))\n",
    "print(A)\n",
    "\n",
    "# split 只能均分\n",
    "\n",
    "print(np.split(A,3,axis=0)) # 纵向分割\n",
    "\n",
    "print(np.split(A,2,axis=1)) # 横向分割\n",
    "\n",
    "# array_split 可以不均分\n",
    "\n",
    "print(np.array_split(A,2,axis=0))\n",
    "\n",
    "print(np.vsplit(A,3)) # vertical split\n",
    "\n",
    "print(np.hsplit(A,1)) # horizontal split\n"
   ]
  },
  {
   "cell_type": "markdown",
   "metadata": {},
   "source": [
    "### Numpy 的 copy & deep copy"
   ]
  },
  {
   "cell_type": "code",
   "execution_count": null,
   "metadata": {},
   "outputs": [],
   "source": [
    "import numpy as np\n",
    "\n",
    "a = np.arange(4)\n",
    "print(a)\n",
    "\n",
    "b = a\n",
    "c = a\n",
    "d = b\n",
    "\n",
    "a[0] = 11\n",
    "print(a,b,c,d)\n",
    "\n",
    "print(b is a)\n",
    "print(d is a)\n",
    "\n",
    "b = a.copy() # deep copy 将a的值赋给b，两者之间没有关联。\n",
    "\n",
    "a[1:3] = [22,33]\n",
    "b[3] = 44\n",
    "print(a,b)"
   ]
  },
  {
   "cell_type": "markdown",
   "metadata": {},
   "source": [
    "## Pandas "
   ]
  },
  {
   "cell_type": "markdown",
   "metadata": {},
   "source": [
    "### 基本介绍"
   ]
  },
  {
   "cell_type": "code",
   "execution_count": 4,
   "metadata": {},
   "outputs": [
    {
     "name": "stdout",
     "output_type": "stream",
     "text": [
      "0     1.0\n",
      "1     2.0\n",
      "2     3.0\n",
      "3     NaN\n",
      "4    44.0\n",
      "dtype: float64\n",
      "DatetimeIndex(['2019-06-29', '2019-06-30', '2019-07-01', '2019-07-02',\n",
      "               '2019-07-03', '2019-07-04'],\n",
      "              dtype='datetime64[ns]', freq='D')\n",
      "                   A         B         C         D\n",
      "2019-06-29 -0.154598 -1.189146  2.324394 -0.821192\n",
      "2019-06-30  1.230966 -0.020283  0.275450  0.004141\n",
      "2019-07-01 -0.933182 -0.157233 -2.007141  0.684570\n",
      "2019-07-02  2.179645  0.329119 -0.739449  0.401475\n",
      "2019-07-03 -0.681992 -1.416969  0.555664 -0.095499\n",
      "2019-07-04 -0.431938 -0.028882 -0.326532  0.055199\n",
      "   0  1   2   3\n",
      "0  0  1   2   3\n",
      "1  4  5   6   7\n",
      "2  8  9  10  11\n",
      "     A          B    C  D      E    F\n",
      "0  1.0 2018-12-15  1.0  3   test  foo\n",
      "1  1.0 2018-12-15  1.0  3  train  foo\n",
      "2  1.0 2018-12-15  1.0  3   test  foo\n",
      "3  1.0 2018-12-15  1.0  3  train  foo\n",
      "dtype:\n",
      "A           float64\n",
      "B    datetime64[ns]\n",
      "C           float64\n",
      "D             int32\n",
      "E          category\n",
      "F            object\n",
      "dtype: object\n",
      "index:\n",
      "Int64Index([0, 1, 2, 3], dtype='int64')\n",
      "columns:\n",
      "Index(['A', 'B', 'C', 'D', 'E', 'F'], dtype='object')\n",
      "values:\n",
      "[[1.0 Timestamp('2018-12-15 00:00:00') 1.0 3 'test' 'foo']\n",
      " [1.0 Timestamp('2018-12-15 00:00:00') 1.0 3 'train' 'foo']\n",
      " [1.0 Timestamp('2018-12-15 00:00:00') 1.0 3 'test' 'foo']\n",
      " [1.0 Timestamp('2018-12-15 00:00:00') 1.0 3 'train' 'foo']]\n",
      "Desc:\n",
      "         A    C    D\n",
      "count  4.0  4.0  4.0\n",
      "mean   1.0  1.0  3.0\n",
      "std    0.0  0.0  0.0\n",
      "min    1.0  1.0  3.0\n",
      "25%    1.0  1.0  3.0\n",
      "50%    1.0  1.0  3.0\n",
      "75%    1.0  1.0  3.0\n",
      "max    1.0  1.0  3.0\n",
      "T:\n",
      "                     0                    1                    2  \\\n",
      "A                    1                    1                    1   \n",
      "B  2018-12-15 00:00:00  2018-12-15 00:00:00  2018-12-15 00:00:00   \n",
      "C                    1                    1                    1   \n",
      "D                    3                    3                    3   \n",
      "E                 test                train                 test   \n",
      "F                  foo                  foo                  foo   \n",
      "\n",
      "                     3  \n",
      "A                    1  \n",
      "B  2018-12-15 00:00:00  \n",
      "C                    1  \n",
      "D                    3  \n",
      "E                train  \n",
      "F                  foo  \n",
      "     A          B    C  D      E    F\n",
      "3  1.0 2018-12-15  1.0  3  train  foo\n",
      "2  1.0 2018-12-15  1.0  3   test  foo\n",
      "1  1.0 2018-12-15  1.0  3  train  foo\n",
      "0  1.0 2018-12-15  1.0  3   test  foo\n",
      "     F      E  D    C          B    A\n",
      "0  foo   test  3  1.0 2018-12-15  1.0\n",
      "1  foo  train  3  1.0 2018-12-15  1.0\n",
      "2  foo   test  3  1.0 2018-12-15  1.0\n",
      "3  foo  train  3  1.0 2018-12-15  1.0\n",
      "     A          B    C  D      E    F\n",
      "0  1.0 2018-12-15  1.0  3   test  foo\n",
      "2  1.0 2018-12-15  1.0  3   test  foo\n",
      "1  1.0 2018-12-15  1.0  3  train  foo\n",
      "3  1.0 2018-12-15  1.0  3  train  foo\n"
     ]
    }
   ],
   "source": [
    "import pandas as pd\n",
    "import numpy as np\n",
    "\n",
    "s = pd.Series([1,2,3,np.nan,44]) # pandas 序列\n",
    "print(s)\n",
    "\n",
    "dates = pd.date_range(start='20190629',periods=6) # 日期 index\n",
    "print(dates)\n",
    "\n",
    "df = pd.DataFrame(np.random.randn(6,4),index=dates,columns=['A','B','C','D'])\n",
    "print(df)\n",
    "\n",
    "df1 = pd.DataFrame(np.arange(12).reshape((3,4)))\n",
    "print(df1)\n",
    "\n",
    "df2 = pd.DataFrame({\n",
    "    'A':1.0,\n",
    "    'B':pd.Timestamp('20181215'),\n",
    "    'C':pd.Series(1,index=list(range(4)),dtype='float64'),\n",
    "    'D':np.array([3]*4,dtype='int32'),\n",
    "    'E':pd.Categorical(['test','train','test','train']),\n",
    "    'F':'foo',\n",
    "})\n",
    "\n",
    "print(df2)\n",
    "print(f'dtype:\\n{df2.dtypes}')\n",
    "print(f'index:\\n{df2.index}')\n",
    "print(f'columns:\\n{df2.columns}')\n",
    "print(f'values:\\n{df2.values}')\n",
    "print(f'Desc:\\n{df2.describe()}')\n",
    "\n",
    "print(f'T:\\n{df2.T}')\n",
    "\n",
    "print(df2.sort_index(axis=0,ascending=False))\n",
    "print(df2.sort_index(axis=1,ascending=False))\n",
    "print(df2.sort_values(by='E'))"
   ]
  },
  {
   "cell_type": "markdown",
   "metadata": {},
   "source": [
    "### Pandas 选择数据"
   ]
  },
  {
   "cell_type": "code",
   "execution_count": null,
   "metadata": {},
   "outputs": [],
   "source": [
    "import numpy as np\n",
    "import pandas as pd\n",
    "\n",
    "dates = pd.date_range(start='20190629',periods=6)\n",
    "df = pd.DataFrame(np.arange(24).reshape((6,4)),index=dates,columns=['A','B','C','D'])\n",
    "\n",
    "print(df,end='\\n\\n')\n",
    "\n",
    "print(df['A'],df.A,end='\\n\\n',sep='\\n\\n') # 列 \n",
    "print(df[0:3],df['20190629':'20190701'],end='\\n\\n',sep='\\n\\n') # 行\n",
    "print(df[0:3]['A'])\n",
    "\n",
    "# select by label: loc\n",
    "print(df.loc['20190629'],\n",
    "      df.loc['20190629',['A','B']],sep='\\n\\n',end='\\n\\n')\n",
    "\n",
    "# select by position: iloc\n",
    "print(df.iloc[1,1],\n",
    "      df.iloc[:,1:3],\n",
    "      df.iloc[[1,3,5],1:4],sep='\\n\\n',end='\\n\\n')\n",
    "\n",
    "# mixed selection: ix :: this way is deprecated.\n",
    "# print(df.ix[:3,['A','B']])\n",
    "\n",
    "# Boolean indexing\n",
    "print(df[df.A > 6])"
   ]
  },
  {
   "cell_type": "markdown",
   "metadata": {},
   "source": [
    "### Pandas 设置值 "
   ]
  },
  {
   "cell_type": "code",
   "execution_count": null,
   "metadata": {},
   "outputs": [],
   "source": [
    "import numpy as np\n",
    "import pandas as pd\n",
    "\n",
    "dates = pd.date_range(start='20190629',periods=6)\n",
    "df = pd.DataFrame(np.arange(24).reshape((6,4)),index=dates,columns=['A','B','C','D'])\n",
    "\n",
    "df.iloc[1,2] = 2222\n",
    "df.loc['20190701','C'] = 3333\n",
    "df.B[df.A > 8] = 0\n",
    "print(df)\n",
    "\n",
    "df['E'] = np.nan\n",
    "df['F'] = pd.Series([1,2,3,4,5,6],index=pd.date_range(start='20190629',periods=6))\n",
    "print(df)"
   ]
  },
  {
   "cell_type": "markdown",
   "metadata": {},
   "source": [
    "###  Pandas 处理丢失数据"
   ]
  },
  {
   "cell_type": "code",
   "execution_count": 5,
   "metadata": {},
   "outputs": [
    {
     "name": "stdout",
     "output_type": "stream",
     "text": [
      "             A     B     C   D\n",
      "2019-06-29   0   NaN   2.0   3\n",
      "2019-06-30   4   5.0   NaN   7\n",
      "2019-07-01   8   9.0  10.0  11\n",
      "2019-07-02  12  13.0  14.0  15\n",
      "2019-07-03  16  17.0  18.0  19\n",
      "2019-07-04  20  21.0  22.0  23\n",
      "             A     B     C   D\n",
      "2019-07-01   8   9.0  10.0  11\n",
      "2019-07-02  12  13.0  14.0  15\n",
      "2019-07-03  16  17.0  18.0  19\n",
      "2019-07-04  20  21.0  22.0  23\n",
      "             A   D\n",
      "2019-06-29   0   3\n",
      "2019-06-30   4   7\n",
      "2019-07-01   8  11\n",
      "2019-07-02  12  15\n",
      "2019-07-03  16  19\n",
      "2019-07-04  20  23\n",
      "             A     B     C   D\n",
      "2019-06-29   0   0.0   2.0   3\n",
      "2019-06-30   4   5.0   0.0   7\n",
      "2019-07-01   8   9.0  10.0  11\n",
      "2019-07-02  12  13.0  14.0  15\n",
      "2019-07-03  16  17.0  18.0  19\n",
      "2019-07-04  20  21.0  22.0  23\n",
      "                A      B      C      D\n",
      "2019-06-29  False   True  False  False\n",
      "2019-06-30  False  False   True  False\n",
      "2019-07-01  False  False  False  False\n",
      "2019-07-02  False  False  False  False\n",
      "2019-07-03  False  False  False  False\n",
      "2019-07-04  False  False  False  False\n",
      "True\n"
     ]
    }
   ],
   "source": [
    "import numpy as np\n",
    "import pandas as pd\n",
    "\n",
    "dates = pd.date_range(start='20190629',periods=6)\n",
    "df = pd.DataFrame(np.arange(24).reshape((6,4)),index=dates,columns=['A','B','C','D'])\n",
    "\n",
    "df.iloc[0,1] = np.nan\n",
    "df.iloc[1,2] = None\n",
    "print(df)\n",
    "\n",
    "print(df.dropna(axis=0,how='any')) # how = {'any','all'} 删除丢失数据\n",
    "print(df.dropna(axis=1,how='any')) # how = {'any','all'}\n",
    "\n",
    "print(df.fillna(value=0)) # 使用value填充丢失数据\n",
    "\n",
    "print(df.isnull()) # 判断是否丢失数据\n",
    "\n",
    "print(np.any(df.isnull()) == True)"
   ]
  },
  {
   "cell_type": "markdown",
   "metadata": {},
   "source": [
    "### Pandas 导入 & 导出 数据 \n",
    "\n",
    "|Format Type|Data Description|Reader|Writer|\n",
    "|:---|---|---|---|\n",
    "|text|CSV|read_csv|to_csv|\n",
    "|text|JSON|read_json|to_json|\n",
    "|text|HTML|read_html|to_html|\n",
    "|text|Local clipboard|read_clipboard|to_clipboard|\n",
    "|binary|MS Excel|read_excel|to_excel|\n",
    "|binary|HDF5 Format|read_hdf|to_hdf|\n",
    "|binary|Feather Format|read_feather|to_feather|\n",
    "|binary|Parquet Format|read_parquet|to_parquet|\n",
    "|binary|Msgpack|read_msgpack|to_msgpack|\n",
    "|binary|Stata|read_stata|to_stata|\n",
    "|binary|SAS|read_sas||\n",
    "|binary|Python Pickle Format|read_pickle|to_pickle|\n",
    "|SQL|SQL|read_sql|to_sql|\n",
    "|SQL|Google Big Query|read_gbq|to_gbq|\n"
   ]
  },
  {
   "cell_type": "code",
   "execution_count": null,
   "metadata": {},
   "outputs": [],
   "source": [
    "import pandas as pd\n",
    "\n",
    "df = pd.read_csv('Student.csv')\n",
    "print(df)\n",
    "\n",
    "df.to_pickle('student.pickle')"
   ]
  },
  {
   "cell_type": "markdown",
   "metadata": {},
   "source": [
    "### Pandas 合并  concat"
   ]
  },
  {
   "cell_type": "code",
   "execution_count": null,
   "metadata": {},
   "outputs": [],
   "source": [
    "import pandas as pd\n",
    "import numpy as np\n",
    "\n",
    "# concatenating\n",
    "\n",
    "df1 = pd.DataFrame(np.ones((3,4))*0,columns=['a','b','c','d'])\n",
    "df2 = pd.DataFrame(np.ones((3,4))*1,columns=['a','b','c','d'])\n",
    "df3 = pd.DataFrame(np.ones((3,4))*2,columns=['a','b','c','d'])\n",
    "\n",
    "res = pd.concat([df1,df2,df3],axis=0)\n",
    "print(res)\n",
    "\n",
    "res = pd.concat([df1,df2,df3],axis=0,ignore_index=True)# ignore_index 重新对index排序\n",
    "print(res)\n",
    "\n",
    "res = pd.concat([df1,df2,df3],axis=1)\n",
    "print(res)"
   ]
  },
  {
   "cell_type": "code",
   "execution_count": null,
   "metadata": {},
   "outputs": [],
   "source": [
    "import pandas as pd\n",
    "import numpy as np\n",
    "\n",
    "# join = ['inner','outer']  default:outer\n",
    "df1 = pd.DataFrame(np.ones((3,4))*0,columns=['a','b','c','d'],index=[1,2,3])\n",
    "df2 = pd.DataFrame(np.ones((3,4))*1,columns=['b','c','d','e'],index=[2,3,4])\n",
    "\n",
    "# res = pd.concat([df1,df2],axis=0)\n",
    "res = pd.concat([df1,df2],axis=0,join='inner',ignore_index=True)\n",
    "print(res)"
   ]
  },
  {
   "cell_type": "code",
   "execution_count": null,
   "metadata": {},
   "outputs": [],
   "source": [
    "import pandas as pd\n",
    "import numpy as np\n",
    "\n",
    "# join axes\n",
    "df1 = pd.DataFrame(np.ones((3,4))*0,columns=['a','b','c','d'],index=[1,2,3])\n",
    "df2 = pd.DataFrame(np.ones((3,4))*1,columns=['b','c','d','e'],index=[2,3,4])\n",
    "\n",
    "# res = pd.concat([df1,df2],axis=1,join_axes=[df1.index]) # 横向合并时，指定合并的index，\n",
    "res = pd.concat([df1,df2],axis=0,join_axes=[df1.columns])\n",
    "print(res)"
   ]
  },
  {
   "cell_type": "code",
   "execution_count": null,
   "metadata": {},
   "outputs": [],
   "source": [
    "import pandas as pd\n",
    "import numpy as np\n",
    "\n",
    "# append\n",
    "df1 = pd.DataFrame(np.ones((3,4))*0,columns=['a','b','c','d'])\n",
    "df2 = pd.DataFrame(np.ones((3,4))*1,columns=['a','b','c','d'])\n",
    "df3 = pd.DataFrame(np.ones((3,4))*1,columns=['b','c','d','e'],index=[2,3,4])\n",
    "\n",
    "# res = df1.append(df2,ignore_index=True)\n",
    "# res = df1.append([df2,df3])\n",
    "s = pd.Series([1,2,3,4],index=['a','b','c','d'])\n",
    "res = df1.append(s,ignore_index=True)\n",
    "print(res)"
   ]
  },
  {
   "cell_type": "markdown",
   "metadata": {},
   "source": [
    "### Pandas 合并  merge"
   ]
  },
  {
   "cell_type": "code",
   "execution_count": 6,
   "metadata": {},
   "outputs": [
    {
     "name": "stdout",
     "output_type": "stream",
     "text": [
      "  key   A   B\n",
      "0  K0  A0  B0\n",
      "1  K1  A1  B1\n",
      "2  K2  A2  B2\n",
      "3  K3  A3  B3\n",
      "  key   C   D\n",
      "0  K0  C0  D0\n",
      "1  K1  C1  D1\n",
      "2  K2  C2  D2\n",
      "3  K3  C3  D3\n",
      "  key   A   B   C   D\n",
      "0  K0  A0  B0  C0  D0\n",
      "1  K1  A1  B1  C1  D1\n",
      "2  K2  A2  B2  C2  D2\n",
      "3  K3  A3  B3  C3  D3\n"
     ]
    }
   ],
   "source": [
    "import pandas as pd\n",
    "import numpy as np\n",
    "\n",
    "\"\"\"\n",
    "merge two df by key/keys (may be used in database)\n",
    "\"\"\"\n",
    "\n",
    "left = pd.DataFrame({\n",
    "    'key':['K0','K1','K2','K3'],\n",
    "    'A':['A0','A1','A2','A3'],\n",
    "    'B':['B0','B1','B2','B3'],\n",
    "})\n",
    "right = pd.DataFrame({\n",
    "    'key':['K0','K1','K2','K3'],\n",
    "    'C':['C0','C1','C2','C3'],\n",
    "    'D':['D0','D1','D2','D3'],\n",
    "})\n",
    "\n",
    "print(left)\n",
    "print(right)\n",
    "\n",
    "res = pd.merge(left,right,on='key') # merge by the column named 'key'\n",
    "print(res)"
   ]
  },
  {
   "cell_type": "code",
   "execution_count": null,
   "metadata": {},
   "outputs": [],
   "source": [
    "import pandas as pd\n",
    "import numpy as np\n",
    "\n",
    "\"\"\"\n",
    "consider two keys\n",
    "\"\"\"\n",
    "\n",
    "left = pd.DataFrame({\n",
    "    'key1':['K0','K1','K1','K3'],\n",
    "    'key2':['K0','K0','K0','K2'],\n",
    "    'A':['A0','A1','A2','A3'],\n",
    "    'B':['B0','B1','B2','B3'],\n",
    "})\n",
    "right = pd.DataFrame({\n",
    "    'key1':['K0','K1','K2','K3'],\n",
    "    'key2':['K0','K0','K2','K3'],\n",
    "    'C':['C0','C1','C2','C3'],\n",
    "    'D':['D0','D1','D2','D3'],\n",
    "})\n",
    "\n",
    "print(left)\n",
    "print(right)\n",
    "\n",
    "# res = pd.merge(left,right,on=['key1','key2'])\n",
    "\n",
    "# how = ['left', 'right', 'outer', 'inner'] default:inner 合并方式\n",
    "res = pd.merge(left,right,on=['key1','key2'],how='left')\n",
    "\n",
    "print(res)"
   ]
  },
  {
   "cell_type": "code",
   "execution_count": null,
   "metadata": {},
   "outputs": [],
   "source": [
    "import pandas as pd\n",
    "\n",
    "# indicator\n",
    "\n",
    "df1 = pd.DataFrame({'col1':[0,1],'col_left':['a','b']})\n",
    "df2 = pd.DataFrame({'col1':[1,2,2],'col_right':[2,2,2]})\n",
    "\n",
    "print(df1)\n",
    "print(df2)\n",
    "\n",
    "# res = pd.merge(df1,df2,on='col1',how='outer',indicator=True)\n",
    "\n",
    "# give the indicator a custome name\n",
    "res = pd.merge(df1,df2,on='col1',how='outer',indicator='indicator_name')\n",
    "\n",
    "print(res)"
   ]
  },
  {
   "cell_type": "code",
   "execution_count": null,
   "metadata": {},
   "outputs": [],
   "source": [
    "import pandas as pd\n",
    "\n",
    "# merge by index\n",
    "\n",
    "left = pd.DataFrame({\n",
    "    'A':['A0','A1','A2','A3'],\n",
    "    'B':['B0','B1','B2','B3'],\n",
    "},index=['K0','K1','K2','K3'])\n",
    "\n",
    "right = pd.DataFrame({\n",
    "    'C':['C0','C1','C2','C3'],\n",
    "    'D':['D0','D1','D2','D3'],\n",
    "},index=['K0','K2','K3','K4'])\n",
    "\n",
    "print(left)\n",
    "print(right)\n",
    "\n",
    "# res = pd.merge(left,right,left_index=True,right_index=True,how='outer')\n",
    "res = pd.merge(left,right,left_index=True,right_index=True,how='inner')\n",
    "print(res)"
   ]
  },
  {
   "cell_type": "code",
   "execution_count": null,
   "metadata": {},
   "outputs": [],
   "source": [
    "import pandas as pd\n",
    "\n",
    "# handle overlapping\n",
    "\n",
    "boys = pd.DataFrame({\n",
    "    'k':['K0','K1','K2'],\n",
    "    'age':[1,2,3]\n",
    "})\n",
    "\n",
    "girls = pd.DataFrame({\n",
    "    'k':['K0','K0','K1'],\n",
    "    'age':[4,5,6]\n",
    "})\n",
    "\n",
    "res = pd.merge(boys,girls,on='k',suffixes=['_boy','_girl'],how='inner')\n",
    "print(res)\n",
    "\n",
    "# join"
   ]
  },
  {
   "cell_type": "markdown",
   "metadata": {},
   "source": [
    "### Pandas plot 图表"
   ]
  },
  {
   "cell_type": "code",
   "execution_count": 68,
   "metadata": {},
   "outputs": [
    {
     "data": {
      "image/png": "[encoded data removed]",
      "text/plain": [
       "<Figure size 432x288 with 1 Axes>"
      ]
     },
     "metadata": {
      "needs_background": "light"
     },
     "output_type": "display_data"
    },
    {
     "data": {
      "image/png": "[encoded data removed]",
      "text/plain": [
       "<Figure size 432x288 with 1 Axes>"
      ]
     },
     "metadata": {
      "needs_background": "light"
     },
     "output_type": "display_data"
    }
   ],
   "source": [
    "import pandas as pd\n",
    "import numpy as np\n",
    "\n",
    "import matplotlib.pyplot as plt\n",
    "\n",
    "# Series\n",
    "\n",
    "# data = pd.Series(np.random.randn(1000),index=np.arange(1000))\n",
    "\n",
    "data = pd.DataFrame(np.random.randn(1000,4),index=np.arange(1000),columns=list('ABCD'))\n",
    "data = data.cumsum() # 类是reduce，累加\n",
    "data.plot()\n",
    "\n",
    "# plot method:\n",
    "# 'bar','hist','plot','scatter','kde','area','box','hexbin','pie'\n",
    "\n",
    "ax = data.plot.scatter(x='A',y='B',color='DarkBlue',label='Class 1')\n",
    "data.plot.scatter(x='A',y='C',color='DarkGreen',label='Class 2',ax=ax)\n",
    "plt.show()"
   ]
  }
 ],
 "metadata": {
  "kernelspec": {
   "display_name": "Python 3",
   "language": "python",
   "name": "python3"
  },
  "language_info": {
   "codemirror_mode": {
    "name": "ipython",
    "version": 3
   },
   "file_extension": ".py",
   "mimetype": "text/x-python",
   "name": "python",
   "nbconvert_exporter": "python",
   "pygments_lexer": "ipython3",
   "version": "3.6.8"
  }
 },
 "nbformat": 4,
 "nbformat_minor": 2
}
