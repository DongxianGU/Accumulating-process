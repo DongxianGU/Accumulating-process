{
 "cells": [
  {
   "cell_type": "code",
   "execution_count": null,
   "metadata": {},
   "outputs": [],
   "source": [
    "str = \"abcdefg\"\n",
    "str[0:len(str):2]"
   ]
  },
  {
   "cell_type": "code",
   "execution_count": 2,
   "metadata": {},
   "outputs": [
    {
     "name": "stdout",
     "output_type": "stream",
     "text": [
      "A/B\n"
     ]
    }
   ],
   "source": [
    "import os\n",
    "print(os.path.join('A','B'))"
   ]
  },
  {
   "cell_type": "code",
   "execution_count": null,
   "metadata": {},
   "outputs": [],
   "source": [
    "import sys\n",
    "sys.stdout.write('Hello World!')"
   ]
  },
  {
   "cell_type": "code",
   "execution_count": null,
   "metadata": {},
   "outputs": [],
   "source": [
    "import keyword\n",
    "print(keyword.kwlist)"
   ]
  },
  {
   "cell_type": "code",
   "execution_count": null,
   "metadata": {},
   "outputs": [],
   "source": [
    "# 第一行注释\n",
    "'''\n",
    "第二行注释\n",
    "'''\n",
    "\"\"\"\n",
    "第三行注释\n",
    "\"\"\""
   ]
  },
  {
   "cell_type": "markdown",
   "metadata": {},
   "source": [
    "- int 如1\n",
    "- bool 如True\n",
    "- float 如1.23/3E-2\n",
    "- complex 如1+2j"
   ]
  },
  {
   "cell_type": "code",
   "execution_count": null,
   "metadata": {},
   "outputs": [],
   "source": [
    "import sys; x='a';sys.stdout.write(x+'\\n')"
   ]
  },
  {
   "cell_type": "code",
   "execution_count": null,
   "metadata": {},
   "outputs": [],
   "source": [
    "x = 'a'\n",
    "y = 'b'\n",
    "print(x)\n",
    "print(y,end=\" \")"
   ]
  },
  {
   "cell_type": "code",
   "execution_count": null,
   "metadata": {},
   "outputs": [],
   "source": [
    "del x"
   ]
  },
  {
   "cell_type": "code",
   "execution_count": null,
   "metadata": {},
   "outputs": [],
   "source": [
    "print(5 + 4)\n",
    "print(4.3 - 2 )\n",
    "print(3 * 7)\n",
    "print(2 / 4)\n",
    "print(2 // 4)\n",
    "print(17 % 3)\n",
    "print(2 ** 5)"
   ]
  },
  {
   "cell_type": "code",
   "execution_count": null,
   "metadata": {},
   "outputs": [],
   "source": [
    "str = 'gudongxian'\n",
    " \n",
    "print (str)          # 输出字符串\n",
    "print (str[0:-1])    # 输出第一个到倒数第二个的所有字符\n",
    "print (str[0])       # 输出字符串第一个字符\n",
    "print (str[2:5])     # 输出从第三个开始到第五个的字符\n",
    "print (str[2:])      # 输出从第三个开始的后的所有字符\n",
    "print (str * 2)      # 输出字符串两次\n",
    "print (str + \"TEST\") # 连接字符串"
   ]
  },
  {
   "cell_type": "code",
   "execution_count": null,
   "metadata": {},
   "outputs": [],
   "source": [
    "print('gu\\ndongxian')\n",
    "print(r'gu\\ndongxian')"
   ]
  },
  {
   "cell_type": "code",
   "execution_count": null,
   "metadata": {},
   "outputs": [],
   "source": [
    "list = [ 'abcd', 786 , 2.23, 'runoob', 70.2 ]\n",
    "tinylist = [123, 'runoob']\n",
    " \n",
    "print (list)            # 输出完整列表\n",
    "print (list[0])         # 输出列表第一个元素\n",
    "print (list[1:3])       # 从第二个开始输出到第三个元素\n",
    "print (list[2:])        # 输出从第三个元素开始的所有元素\n",
    "print (tinylist * 2)    # 输出两次列表\n",
    "print (list + tinylist) # 连接列表"
   ]
  },
  {
   "cell_type": "code",
   "execution_count": null,
   "metadata": {},
   "outputs": [],
   "source": [
    "tuple = ( 'abcd', 786 , 2.23, 'runoob', 70.2  )\n",
    "tinytuple = (123, 'runoob')\n",
    " \n",
    "print (tuple)             # 输出完整元组\n",
    "print (tuple[0])          # 输出元组的第一个元素\n",
    "print (tuple[1:3])        # 输出从第二个元素开始到第三个元素\n",
    "print (tuple[2:])         # 输出从第三个元素开始的所有元素\n",
    "print (tinytuple * 2)     # 输出两次元组\n",
    "print (tuple + tinytuple) # 连接元组\n",
    "tup2 = (20,) # 一个元素，需要在元素后添加逗号"
   ]
  },
  {
   "cell_type": "code",
   "execution_count": null,
   "metadata": {},
   "outputs": [],
   "source": [
    "student = {'Tom', 'Jim', 'Mary', 'Tom', 'Jack', 'Rose'}\n",
    " \n",
    "print(student)   # 输出集合，重复的元素被自动去掉\n",
    " \n",
    "# 成员测试\n",
    "if 'Rose' in student :\n",
    "    print('Rose 在集合中')\n",
    "else :\n",
    "    print('Rose 不在集合中')\n",
    " \n",
    " \n",
    "# set可以进行集合运算\n",
    "a = set('abracadabra')\n",
    "b = set('alacazam')\n",
    " \n",
    "print(a)\n",
    " \n",
    "print(a - b)     # a 和 b 的差集\n",
    " \n",
    "print(a | b)     # a 和 b 的并集\n",
    " \n",
    "print(a & b)     # a 和 b 的交集\n",
    " \n",
    "print(a ^ b)     # a 和 b 中不同时存在的元素"
   ]
  },
  {
   "cell_type": "code",
   "execution_count": null,
   "metadata": {},
   "outputs": [],
   "source": [
    "dict = {}\n",
    "dict['one'] = \"1 - 菜鸟教程\"\n",
    "dict[2]     = \"2 - 菜鸟工具\"\n",
    " \n",
    "tinydict = {'name': 'runoob','code':1, 'site': 'www.runoob.com'}\n",
    " \n",
    " \n",
    "print (dict['one'])       # 输出键为 'one' 的值\n",
    "print (dict[2])           # 输出键为 2 的值\n",
    "print (tinydict)          # 输出完整的字典\n",
    "print (tinydict.keys())   # 输出所有键\n",
    "print (tinydict.values()) # 输出所有值"
   ]
  },
  {
   "cell_type": "markdown",
   "metadata": {},
   "source": [
    "## 数据类型转换\n",
    "函数\t描述\n",
    "int(x [,base])\n",
    "\n",
    "将x转换为一个整数\n",
    "\n",
    "float(x)\n",
    "\n",
    "将x转换到一个浮点数\n",
    "\n",
    "complex(real [,imag])\n",
    "\n",
    "创建一个复数\n",
    "\n",
    "str(x)\n",
    "\n",
    "将对象 x 转换为字符串\n",
    "\n",
    "repr(x)\n",
    "\n",
    "将对象 x 转换为表达式字符串\n",
    "\n",
    "eval(str)\n",
    "\n",
    "用来计算在字符串中的有效Python表达式,并返回一个对象\n",
    "\n",
    "tuple(s)\n",
    "\n",
    "将序列 s 转换为一个元组\n",
    "\n",
    "list(s)\n",
    "\n",
    "将序列 s 转换为一个列表\n",
    "\n",
    "set(s)\n",
    "\n",
    "转换为可变集合\n",
    "\n",
    "dict(d)\n",
    "\n",
    "创建一个字典。d 必须是一个序列 (key,value)元组。\n",
    "\n",
    "frozenset(s)\n",
    "\n",
    "转换为不可变集合\n",
    "\n",
    "chr(x)\n",
    "\n",
    "将一个整数转换为一个字符\n",
    "\n",
    "ord(x)\n",
    "\n",
    "将一个字符转换为它的整数值\n",
    "\n",
    "hex(x)\n",
    "\n",
    "将一个整数转换为一个十六进制字符串\n",
    "\n",
    "oct(x)\n",
    "\n",
    "将一个整数转换为一个八进制字符串"
   ]
  },
  {
   "cell_type": "code",
   "execution_count": null,
   "metadata": {},
   "outputs": [],
   "source": [
    "for i in range(0,5,2):\n",
    "    print(i)"
   ]
  },
  {
   "cell_type": "code",
   "execution_count": null,
   "metadata": {},
   "outputs": [],
   "source": [
    "list = [1,2,3,4]\n",
    "it = iter(list)\n",
    "for x in it:\n",
    "    print(next(it),end=\" \")"
   ]
  },
  {
   "cell_type": "code",
   "execution_count": null,
   "metadata": {},
   "outputs": [],
   "source": [
    "class MyNumbers:\n",
    "    def __iter__(self): # 第一个\n",
    "        self.a=1\n",
    "        return self\n",
    "    def __next__(self): # 每执行一次next()的变化\n",
    "        if self.a <= 20:\n",
    "            x = self.a\n",
    "            self.a+=1\n",
    "            return x\n",
    "        else:\n",
    "            raise StopIteration # 抛出异常，防止无限执行\n",
    "myclass = MyNumbers()\n",
    "myiter = iter(myclass)\n",
    "for i in myiter:\n",
    "    print(next(myclass))"
   ]
  },
  {
   "cell_type": "code",
   "execution_count": null,
   "metadata": {},
   "outputs": [],
   "source": [
    "# 生成器 yield\n",
    "\n",
    "def fibonacci(n):\n",
    "    a,b,counter = 0,1,0\n",
    "    while True:\n",
    "        if counter > n:\n",
    "            return\n",
    "        yield a\n",
    "        a,b=b,a+b\n",
    "        counter +=1\n",
    "f = fibonacci(10) # f 是一个迭代器，由生成器返回生成\n",
    "while True:\n",
    "    try:\n",
    "        print(next(f),end=\" \")\n",
    "    except StopIteration:\n",
    "        sys.exit()"
   ]
  },
  {
   "cell_type": "code",
   "execution_count": null,
   "metadata": {},
   "outputs": [],
   "source": [
    "# 可变对象和不可变对象\n",
    "def changeInt(a):\n",
    "    a = 10\n",
    "b = 2\n",
    "changeInt(b)\n",
    "print(b)\n",
    "\n",
    "def changeList(mList):\n",
    "    mList.append([1,2,3,4])\n",
    "\n",
    "mL = [1,2,3]\n",
    "changeList(mL)\n",
    "print(mL)"
   ]
  },
  {
   "cell_type": "code",
   "execution_count": null,
   "metadata": {},
   "outputs": [],
   "source": [
    "# 不定长参数 * 元组形式\n",
    "def printInfo(arg1,*vartuple):\n",
    "    print(arg1,vartuple)\n",
    "\n",
    "    \n",
    "def printInfo2(arg1,**vartuple):\n",
    "    print(arg1,vartuple)\n",
    "\n",
    "    \n",
    "printInfo(1,2,3,4,5)\n",
    "printInfo2(1,a=1,b=3)"
   ]
  },
  {
   "cell_type": "code",
   "execution_count": null,
   "metadata": {},
   "outputs": [],
   "source": [
    "# 匿名函数\n",
    "sum = lambda arg1,arg2 : arg1 + arg2\n",
    "print(sum(2,3))"
   ]
  },
  {
   "cell_type": "code",
   "execution_count": null,
   "metadata": {},
   "outputs": [],
   "source": [
    "l = [1,2,3,4,5]\n",
    "l.append([123])\n",
    "l.extend([1,2,3])\n",
    "print(l)"
   ]
  },
  {
   "cell_type": "code",
   "execution_count": null,
   "metadata": {},
   "outputs": [],
   "source": [
    "from collections import deque\n",
    "\n",
    "queue = deque([\"Eric\", \"John\", \"Michael\"])\n",
    "queue.append(\"Terry\")\n",
    "queue.append(\"Graham\")\n",
    "print(queue.popleft())\n",
    "print(queue.popleft())\n",
    "print(queue)"
   ]
  },
  {
   "cell_type": "code",
   "execution_count": null,
   "metadata": {},
   "outputs": [],
   "source": [
    "# 遍历技巧\n",
    "knights = {'gallahad': 'the pure', 'robin': 'the brave'}\n",
    "for k,v in knights.items():\n",
    "    print(k,v,sep=\"=\")\n",
    "questions = ['name', 'quest', 'favorite color']\n",
    "answers = ['lancelot', 'the holy grail', 'blue']\n",
    "for q,a in zip(questions,answers):\n",
    "    print(\"{0},{1}\".format(q,a))"
   ]
  },
  {
   "cell_type": "code",
   "execution_count": null,
   "metadata": {},
   "outputs": [],
   "source": [
    "sys.path"
   ]
  },
  {
   "cell_type": "code",
   "execution_count": null,
   "metadata": {},
   "outputs": [],
   "source": [
    "if __name__ == \"__main__\":\n",
    "    print(\"程序自身在运行\")\n",
    "else:\n",
    "    print(\"程序作为模块被调用\")"
   ]
  },
  {
   "cell_type": "code",
   "execution_count": null,
   "metadata": {},
   "outputs": [],
   "source": [
    "dir(sys)# 内置的函数 dir() 可以找到模块内定义的所有名称。以一个字符串列表的形式返回:"
   ]
  },
  {
   "cell_type": "code",
   "execution_count": null,
   "metadata": {},
   "outputs": [],
   "source": [
    "dir()# 当前定义的所有名称:"
   ]
  },
  {
   "cell_type": "code",
   "execution_count": null,
   "metadata": {},
   "outputs": [],
   "source": [
    "for x in range(1,11):\n",
    "    print(repr(x).rjust(2),repr(x**2).rjust(3),repr(x**3).rjust(4),sep=\" \")"
   ]
  },
  {
   "cell_type": "code",
   "execution_count": null,
   "metadata": {},
   "outputs": [],
   "source": [
    "for x in range(1,11):\n",
    "    print('{0:2d} {1:3d} {2:4d}'.format(x,x**2,x**3))"
   ]
  },
  {
   "cell_type": "code",
   "execution_count": null,
   "metadata": {},
   "outputs": [],
   "source": [
    "'12'.zfill(5)"
   ]
  },
  {
   "cell_type": "code",
   "execution_count": null,
   "metadata": {},
   "outputs": [],
   "source": [
    "'-3.14'.zfill(7)"
   ]
  },
  {
   "cell_type": "code",
   "execution_count": null,
   "metadata": {},
   "outputs": [],
   "source": [
    "'{name}网址： {site}'.format(name='菜鸟教程', site='www.runoob.com')"
   ]
  },
  {
   "cell_type": "code",
   "execution_count": null,
   "metadata": {},
   "outputs": [],
   "source": [
    "table = {'Google': 1, 'Runoob': 2, 'Taobao': 3}\n",
    "print('Runoob: {0[Runoob]:d}; Google: {0[Google]:d}; Taobao: {0[Taobao]:d}'.format(table))"
   ]
  },
  {
   "cell_type": "code",
   "execution_count": null,
   "metadata": {},
   "outputs": [],
   "source": [
    "import math\n",
    "print('{!a}'.format(math.pi)) # !a使用asscii()\n",
    "print('{!s}'.format(math.pi)) # !s使用str()\n",
    "print('{!r}'.format(math.pi)) # !r使用repr()"
   ]
  },
  {
   "cell_type": "code",
   "execution_count": null,
   "metadata": {},
   "outputs": [],
   "source": [
    "str = input('请输入：')\n",
    "print(str)"
   ]
  },
  {
   "cell_type": "markdown",
   "metadata": {},
   "source": [
    "## 正则表达式 ##"
   ]
  },
  {
   "cell_type": "code",
   "execution_count": null,
   "metadata": {},
   "outputs": [],
   "source": [
    "import re\n",
    "\n",
    "# 搞清匹配和搜索\n",
    "m = re.match('foo','food on the table') # match()函数试图从字符串的起始部分对模式进行匹配。\n",
    "if m is not None:\n",
    "    print(m.group())\n",
    "print(m)\n",
    "\n",
    "m = re.match('foo','seafood')\n",
    "print(m)\n",
    "\n",
    "m = re.search('foo','seafood')\n",
    "print(m.group())"
   ]
  },
  {
   "cell_type": "code",
   "execution_count": null,
   "metadata": {},
   "outputs": [],
   "source": [
    "patt = '\\w+@(\\w+\\.)?\\w+\\.com'\n",
    "print(re.match(patt,'nobody@xxx.com').group())\n",
    "print(re.match(patt,'nobody@www.xxx.com').group())"
   ]
  },
  {
   "cell_type": "code",
   "execution_count": null,
   "metadata": {},
   "outputs": [],
   "source": [
    "# 分组\n",
    "m = re.match('(\\w{3})-(\\d{3})','abc-123')\n",
    "print(m.group())\n",
    "print(m.group(1))\n",
    "print(m.group(2))\n",
    "print(m.groups())\n",
    "m = re.match('(a(b))', 'ab')\n",
    "print(m.group())\n",
    "print(m.group(1))\n",
    "print(m.group(2))\n",
    "print(m.groups())"
   ]
  },
  {
   "cell_type": "code",
   "execution_count": null,
   "metadata": {},
   "outputs": [],
   "source": [
    "m = re.search('^The','The end.') # 字符串开头\n",
    "print(m.group())\n",
    "\n",
    "# 单词边界\n",
    "\n",
    "m = re.search(r'\\bthe','bite the dog')\n",
    "print(m.group())\n",
    "# m = re.search(r'\\bthe','bitethe dog')\n",
    "# print(m.group())\n",
    "m = re.search(r'\\Bthe','bitethe dog')\n",
    "print(m.group())"
   ]
  },
  {
   "cell_type": "code",
   "execution_count": null,
   "metadata": {},
   "outputs": [],
   "source": [
    "import re\n",
    "print(re.findall('car','carry the barcardi to the car.')) # 返回一个列表\n",
    "print(re.findall('((c)ar)','carry the barcardi to the car.')) # 有分组的正则表达式返回的列表\n",
    "s = 'This and That'\n",
    "print(re.findall(r'(th\\w+) and (th\\w+)', s, re.I))\n",
    "iter = re.finditer(r'(th\\w+) and (th\\w+)', s,re.I)\n",
    "print(iter.next().group())"
   ]
  },
  {
   "cell_type": "code",
   "execution_count": null,
   "metadata": {},
   "outputs": [],
   "source": [
    "print(re.sub('abc','ABC','abc is abc'))\n",
    "print(re.subn('abc','ABC','abc is abc'))\n",
    "print(re.sub(r'(\\d{1,2})/(\\d{1,2})/(\\d{2}|\\d{4})',r'\\2/\\1/\\3', '2/20/91'))# 使用\\N，其中 N 是在替换字符串中使用的分组编号。\n",
    "print(re.split(':', 'str1:str2:str3'))# 基于正则表达式的模式分隔字符串"
   ]
  },
  {
   "cell_type": "code",
   "execution_count": null,
   "metadata": {},
   "outputs": [],
   "source": [
    "DATA = ('Mountain View, CA 94040','Sunnyvale, CA','Los Altos, 94023','Cupertino 95014','Palo Alto CA',)\n",
    "for datum in DATA: \n",
    "    print(re.split(', |(?= (?:\\d{5}|[A-Z]{2})) ', datum))# ?: 不保存为分组  ?= 正向前视断言"
   ]
  },
  {
   "cell_type": "code",
   "execution_count": null,
   "metadata": {},
   "outputs": [],
   "source": [
    "import re\n",
    "# 扩展符号\n",
    "print(re.findall(r'(?i)yes','yes Yes YES'))\n",
    "print(re.findall(r'(?i)th\\w+', 'The quickest way is through this tunnel.'))\n",
    "s = \"\"\"\n",
    "This line is the first,\n",
    "another line,\n",
    "that line, it's the best\n",
    "\"\"\"\n",
    "\n",
    "print(re.findall(r'(?im)(^th[\\w ]+)', s))\n",
    "\n",
    "# 该标记允许用户通过抑制在正则表达式中使用空白符（除了在字符类中或者在反斜线转义中）\n",
    "print(re.search(r'''(?x)\\((\\d{3})\\)\n",
    "[ ]\n",
    "(\\d{3})\n",
    "-\n",
    "(\\d{4})\n",
    "''','(800) 555-1234').groups())"
   ]
  },
  {
   "cell_type": "code",
   "execution_count": null,
   "metadata": {},
   "outputs": [],
   "source": [
    "re.findall(r'http://(?:\\w+\\.)*(\\w+\\.com)','http://google.com http://www.google.com http://code.google.com')"
   ]
  },
  {
   "cell_type": "code",
   "execution_count": null,
   "metadata": {},
   "outputs": [],
   "source": [
    "re.search(r'\\((?P<areacode>\\d{3})\\) (?P<prefix>\\d{3})-(?:\\d{4})','(800) 555-1212').groupdict()"
   ]
  },
  {
   "cell_type": "code",
   "execution_count": null,
   "metadata": {},
   "outputs": [],
   "source": [
    "re.sub(r'\\((?P<areacode>\\d{3})\\) (?P<prefix>\\d{3})-(?:\\d{4})','(\\g<areacode>) \\g<prefix>-xxxx', '(800) 555-1212')"
   ]
  },
  {
   "cell_type": "code",
   "execution_count": null,
   "metadata": {},
   "outputs": [],
   "source": [
    "bool(re.match(r'''\\((?P<areacode>\\d{3})\\) (?P<prefix>\\d{3})-\n",
    "(?P<number>\\d{4}) (?P=areacode)-(?P=prefix)-(?P=number)\n",
    "1(?P=areacode)(?P=prefix)(?P=number)\n",
    "''','(800) 555-1212 800-555-1212 18005551212'))"
   ]
  },
  {
   "cell_type": "code",
   "execution_count": null,
   "metadata": {},
   "outputs": [],
   "source": [
    "re.findall(r'\\w+(?= van Rossum)',\n",
    "'''\n",
    "Guido van Rossum\n",
    "Tim Peters\n",
    "Alex Martelli\n",
    "Just van Rossum\n",
    "Raymond Hettinger\n",
    "''')"
   ]
  },
  {
   "cell_type": "code",
   "execution_count": null,
   "metadata": {},
   "outputs": [],
   "source": [
    "m = re.findall(r'(?m)^\\s+(?!noreply|postmaster)(\\w+)',\n",
    "'''\n",
    "    sales@phptr.com\n",
    "    postmaster@phptr.com\n",
    "    eng@phptr.com\n",
    "    noreply@phptr.com\n",
    "    admin@phptr.com\n",
    "''')\n",
    "print(m)\n",
    "print(bool(re.search(r'(?:(x)|y)(?(1)y|x)', 'xy')))"
   ]
  },
  {
   "cell_type": "code",
   "execution_count": null,
   "metadata": {},
   "outputs": [],
   "source": [
    "import re\n",
    "import os\n",
    "with os.popen('who','r') as f: \n",
    "    for line in f:\n",
    "        print(re.split(r'\\s\\s+|\\t',line.rstrip()))"
   ]
  },
  {
   "cell_type": "code",
   "execution_count": null,
   "metadata": {},
   "outputs": [],
   "source": [
    "## 数据生成器（gendata.py）\n",
    "from random import randrange,choice\n",
    "from string import ascii_lowercase as lc\n",
    "from sys import maxsize,maxunicode\n",
    "from time import ctime\n",
    "\n",
    "tlds = ('com','edu','net','org','gov')\n",
    "\n",
    "for i in range(randrange(5,11)):\n",
    "    dtint = randrange(maxunicode)\n",
    "    dtstr = ctime(dtint)\n",
    "    llen = randrange(4,8)\n",
    "    login = ''.join(choice(lc) for j in range(llen))\n",
    "    dlen = randrange(llen,13)\n",
    "    dom = ''.join(choice(lc) for j in range(llen))\n",
    "    print('%s::%s@%s.%s::%d-%d-%d' % (dtstr,login,dom,choice(tlds),dtint,llen,dlen))"
   ]
  },
  {
   "cell_type": "markdown",
   "metadata": {},
   "source": [
    "## 正则表达式练习 ##"
   ]
  },
  {
   "cell_type": "code",
   "execution_count": null,
   "metadata": {},
   "outputs": [],
   "source": [
    "import re\n",
    "\n",
    "# 1. 识别后续的字符串：“bat”、“bit”、“but”、“hat”、“hit”或者“hut”。\n",
    "s = '[bh][aiu]t'\n",
    "re.match(s,'bat').group()"
   ]
  },
  {
   "cell_type": "code",
   "execution_count": null,
   "metadata": {},
   "outputs": [],
   "source": [
    "# 2. 匹配由单个空格分隔的任意单词对，也就是姓和名。\n",
    "\n",
    "s = '\\w+\\s\\w+'\n",
    "t = 'dongxian Gu'\n",
    "\n",
    "re.search(s,t).group()"
   ]
  },
  {
   "cell_type": "code",
   "execution_count": null,
   "metadata": {},
   "outputs": [],
   "source": [
    "# 3. 匹配由单个逗号和单个空白符分隔的任何单词和单个字母，如姓氏的首字母。\n",
    "s = '(\\w+),\\s(\\w+)'\n",
    "t = 'dongxian, Gu'\n",
    "\n",
    "re.search(s,t).groups()"
   ]
  },
  {
   "cell_type": "code",
   "execution_count": null,
   "metadata": {},
   "outputs": [],
   "source": [
    "# 4. 匹配所有有效Python标识符的集合。\n",
    "import keyword;\n",
    "s = ''\n",
    "for item in keyword.kwlist:\n",
    "    if not len(s):\n",
    "        s = item;\n",
    "    else:\n",
    "        s = s + '|' + item\n",
    "\n",
    "print(s)"
   ]
  },
  {
   "cell_type": "code",
   "execution_count": null,
   "metadata": {},
   "outputs": [],
   "source": [
    "# 5. 根据读者当地的格式，匹配街道地址（使你的正则表达式足够通用，来匹配任意数量的街道单词，包括类型名称）。例如，美国街道地址使用如下格式：1180 Bordeaux Drive。使你的正则表达式足够灵活，以支持多单词的街道名称，如3120 De la Cruz Boulevard。\n",
    "s = '(\\d+)(\\s+\\w+)+'\n",
    "t = '3120 De la Cruz Boulevard'\n",
    "re.match(s,t).group()"
   ]
  },
  {
   "cell_type": "code",
   "execution_count": null,
   "metadata": {},
   "outputs": [],
   "source": [
    "# 6. 匹配以“www”起始且以“.com”结尾的简单Web域名；例如，www://www.yahoo.com/。选做题：你的正则表达式也可以支持其他高级域名，如.edu、.net 等（例如， http://www.foothill.edu）。\n",
    "\n",
    "s = '^(\\w+)://w{3}\\.((?:\\.|\\w)+)\\.(com|edu|net)$'\n",
    "t = 'http://www.foothill.edu'\n",
    "re.match(s,t).groups()"
   ]
  },
  {
   "cell_type": "code",
   "execution_count": null,
   "metadata": {},
   "outputs": [],
   "source": [
    "# 7. 匹配所有能够表示Python整数的字符串集。"
   ]
  },
  {
   "cell_type": "markdown",
   "metadata": {},
   "source": [
    "## 网络编程 ##"
   ]
  },
  {
   "cell_type": "code",
   "execution_count": 8,
   "metadata": {
    "scrolled": true
   },
   "outputs": [
    {
     "name": "stdout",
     "output_type": "stream",
     "text": [
      "> sdad\n",
      "b'[Sat Jan 12 11:35:33 2019] sdad'\n",
      "> asdad\n",
      "b'[Sat Jan 12 11:35:36 2019] asdad'\n",
      "> exit\n"
     ]
    }
   ],
   "source": [
    "# 客户端\n",
    "from socket import *\n",
    "HOST = '120.79.51.44'\n",
    "PORT = 21567\n",
    "BUFSIZ = 1024\n",
    "ADDR = (HOST,PORT)\n",
    "\n",
    "tcpCliSock = socket(AF_INET,SOCK_STREAM)\n",
    "tcpCliSock.connect(ADDR)\n",
    "\n",
    "while True:\n",
    "    data = input('> ')\n",
    "    if not data or data == 'exit':\n",
    "        break;\n",
    "    tcpCliSock.send(bytes(data,'utf-8'))\n",
    "    data = tcpCliSock.recv(BUFSIZ)\n",
    "    if not data:\n",
    "        break\n",
    "    print(data)\n",
    "\n",
    "tcpCliSock.close()"
   ]
  },
  {
   "cell_type": "code",
   "execution_count": 12,
   "metadata": {},
   "outputs": [
    {
     "name": "stdout",
     "output_type": "stream",
     "text": [
      "112.80.248.75\n",
      "('www.a.shifen.com', ['www.baidu.com'], ['112.80.248.75', '112.80.248.76'])\n"
     ]
    }
   ],
   "source": [
    "print(gethostbyname('www.baidu.com'),gethostbyname_ex('www.baidu.com'),sep='\\n')"
   ]
  }
 ],
 "metadata": {
  "celltoolbar": "Raw Cell Format",
  "kernelspec": {
   "display_name": "Python 3",
   "language": "python",
   "name": "python3"
  },
  "language_info": {
   "codemirror_mode": {
    "name": "ipython",
    "version": 3
   },
   "file_extension": ".py",
   "mimetype": "text/x-python",
   "name": "python",
   "nbconvert_exporter": "python",
   "pygments_lexer": "ipython3",
   "version": "3.6.7"
  }
 },
 "nbformat": 4,
 "nbformat_minor": 2
}
