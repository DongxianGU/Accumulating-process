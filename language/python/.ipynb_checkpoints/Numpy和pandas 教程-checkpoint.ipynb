{
 "cells": [
  {
   "cell_type": "markdown",
   "metadata": {},
   "source": [
    "# 1. Numpy"
   ]
  },
  {
   "cell_type": "markdown",
   "metadata": {},
   "source": [
    "## 1.1 基本数学"
   ]
  },
  {
   "cell_type": "code",
   "execution_count": null,
   "metadata": {},
   "outputs": [],
   "source": [
    "import numpy as np\n",
    "array = np.array([[1,2,3],\n",
    "                  [4,5,6]])\n",
    "print(array)\n",
    "print('number of dim:',array.ndim)\n",
    "print('shape:',array.shape)\n",
    "print('size:',array.size)"
   ]
  },
  {
   "cell_type": "markdown",
   "metadata": {},
   "source": [
    "## 创建数组"
   ]
  },
  {
   "cell_type": "code",
   "execution_count": null,
   "metadata": {},
   "outputs": [],
   "source": [
    "import numpy as np\n",
    "a = np.array([2,3,4],dtype=np.int)\n",
    "print(a.dtype)\n",
    "a = np.array([2,3,4],dtype=np.int32)\n",
    "print(a.dtype)\n",
    "a = np.array([2,3,4],dtype=np.int16)\n",
    "print(a.dtype)\n",
    "a = np.array([2,3,4],dtype=np.float)\n",
    "print(a.dtype)\n",
    "a = np.zeros((2,3))\n",
    "print(a)\n",
    "a = np.ones((2,3))\n",
    "print(a)\n",
    "a = np.empty((2,3))\n",
    "print(a)\n",
    "a = np.arange(10,20,2)\n",
    "print(a)\n",
    "a = np.arange(12).reshape(3,4)\n",
    "print(a)\n",
    "# 生成线段，1-10 分成20段\n",
    "a = np.linspace(1,10,20)\n",
    "print(a)"
   ]
  },
  {
   "cell_type": "markdown",
   "metadata": {},
   "source": [
    "## Numpy 运算"
   ]
  },
  {
   "cell_type": "code",
   "execution_count": null,
   "metadata": {},
   "outputs": [],
   "source": [
    "import numpy as np\n",
    "a = np.array([1,2,3,4])\n",
    "b= np.arange(4)\n",
    "c = a-b\n",
    "print(a,b)\n",
    "print(c)\n",
    "print(b**2)\n",
    "print(b<3)\n",
    "print(b==3)\n",
    "print(a-1)\n",
    "\n",
    "a = np.array([[1,1],\n",
    "             [0,1]])\n",
    "b = np.arange(4).reshape((2,2))\n",
    "\n",
    "print(a)\n",
    "print(b)\n",
    "\n",
    "c = a*b\n",
    "c_dot = np.dot(a,b) # 矩阵乘法\n",
    "c_dot_2 = a.dot(b)\n",
    "print(c)\n",
    "print(c_dot)\n",
    "print(c_dot_2)\n",
    "\n",
    "a = np.random.random((2,4))\n",
    "print(a)\n",
    "print(np.sum(a))\n",
    "print(np.min(a))\n",
    "print(np.max(a))\n",
    "\n",
    "print(np.sum(a,axis=1)) # 行里求和\n",
    "print(np.min(a,axis=0)) # 列里找最小值\n",
    "print(np.max(a,axis=1))"
   ]
  },
  {
   "cell_type": "markdown",
   "metadata": {},
   "source": [
    "## Numpy 的索引 "
   ]
  },
  {
   "cell_type": "code",
   "execution_count": null,
   "metadata": {},
   "outputs": [],
   "source": [
    "import numpy as np\n",
    "A = np.arange(2,14).reshape((3,4))\n",
    "print(A)\n",
    "print(np.argmin(A)) # 最小值索引\n",
    "print(np.argmax(A))\n",
    "print(np.mean(A)) # 平均值\n",
    "print(A.mean())\n",
    "print(np.average(A))\n",
    "print(np.median(A)) # 矩阵的中位数\n",
    "print(np.cumsum(A)) # 累加\n",
    "print(np.diff(A)) # 累差 相邻元素的差 3*4 = > 3*3\n",
    "print(np.nonzero(A)) # 非零，两个Array，第一个行数，第二个列数\n",
    "B = np.arange(14,2,-1).reshape((3,4))\n",
    "print(np.sort(B))\n",
    "print(np.transpose(A)) # 矩阵转置\n",
    "print((A.T).dot(A))\n",
    "\n",
    "print(np.clip(A,5,9)) # 截取，小于5变成5，大于9变成9\n",
    "# 以上都可以指定axis计算"
   ]
  },
  {
   "cell_type": "code",
   "execution_count": null,
   "metadata": {},
   "outputs": [],
   "source": [
    "import numpy as np\n",
    "A = np.arange(3,15)\n",
    "print(A)\n",
    "print(A[3])\n",
    "A = np.reshape(A,(3,4))\n",
    "print(A)\n",
    "print(A[2])\n",
    "print(A[1][1])\n",
    "print(A[1,1])\n",
    "print(A[2,:])\n",
    "print(A[2,1:2])\n",
    "print(A[2,1:3])\n",
    "print(A[:,1])\n",
    "\n",
    "print(A)\n",
    "print('*'*3,'行迭代：')\n",
    "for row in A:\n",
    "    print(row)\n",
    "\n",
    "print('*'*3,'列迭代：')\n",
    "print(A.T)\n",
    "for column in A.T:\n",
    "    print(column)\n",
    "\n",
    "print('*'*3,'元素迭代：')\n",
    "print(A.flatten()) \n",
    "for item in A.flat: # A编程一行 A.flat 是迭代器\n",
    "    print(item)"
   ]
  },
  {
   "cell_type": "markdown",
   "metadata": {},
   "source": [
    "## Numpy array 合并"
   ]
  },
  {
   "cell_type": "code",
   "execution_count": null,
   "metadata": {},
   "outputs": [],
   "source": [
    "import numpy as np\n",
    "A = np.array([1,1,1])\n",
    "B = np.array([2,2,2])\n",
    "C = np.vstack((A,B))# vertical stack 垂直合并\n",
    "D = np.hstack((A,B)) # horizontal stack 水平合并\n",
    "print(C)\n",
    "print(A.shape,C.shape)\n",
    "\n",
    "print(D)\n",
    "print(A.shape,D.shape)\n",
    "\n",
    "print(A[np.newaxis,:]) # 在行上面加维度\n",
    "print(A[np.newaxis,:].shape) # 在行上面加维度\n",
    "\n",
    "print(A[:,np.newaxis]) # 在行上面加维度\n",
    "print(A[:,np.newaxis].shape) # 在列上面加维度\n",
    "\n",
    "A = np.array([1,1,1])[:,np.newaxis]\n",
    "B = np.array([2,2,2])[:,np.newaxis]\n",
    "E = np.concatenate((A,B,B,A),axis=0) # 纵向合并\n",
    "F = np.concatenate((A,B,B,A),axis=1) # 横向合并\n",
    "print(E)\n",
    "print(F)"
   ]
  }
 ],
 "metadata": {
  "kernelspec": {
   "display_name": "Python 3",
   "language": "python",
   "name": "python3"
  },
  "language_info": {
   "codemirror_mode": {
    "name": "ipython",
    "version": 3
   },
   "file_extension": ".py",
   "mimetype": "text/x-python",
   "name": "python",
   "nbconvert_exporter": "python",
   "pygments_lexer": "ipython3",
   "version": "3.6.7"
  }
 },
 "nbformat": 4,
 "nbformat_minor": 2
}
